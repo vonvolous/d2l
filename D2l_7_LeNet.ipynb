{
  "nbformat": 4,
  "nbformat_minor": 0,
  "metadata": {
    "colab": {
      "provenance": [],
      "authorship_tag": "ABX9TyO9y1brlYbGfqL8uHMTOY2Z",
      "include_colab_link": true
    },
    "kernelspec": {
      "name": "python3",
      "display_name": "Python 3"
    },
    "language_info": {
      "name": "python"
    }
  },
  "cells": [
    {
      "cell_type": "markdown",
      "metadata": {
        "id": "view-in-github",
        "colab_type": "text"
      },
      "source": [
        "<a href=\"https://colab.research.google.com/github/vonvolous/d2l/blob/main/D2l_7_LeNet.ipynb\" target=\"_parent\"><img src=\"https://colab.research.google.com/assets/colab-badge.svg\" alt=\"Open In Colab\"/></a>"
      ]
    },
    {
      "cell_type": "code",
      "execution_count": 2,
      "metadata": {
        "id": "rZj8_h-xfhvt"
      },
      "outputs": [],
      "source": [
        "import torch\n",
        "import torch.nn as nn\n",
        "import torch.nn.functional as F\n",
        "import torch.optim as optim\n",
        "\n",
        "from torch.utils.data import Dataset, DataLoader\n",
        "import torchvision\n",
        "import torchvision.transforms as transforms\n",
        "import matplotlib.pyplot as plt"
      ]
    },
    {
      "cell_type": "markdown",
      "source": [
        "parameter 설정"
      ],
      "metadata": {
        "id": "PUyE2F9qf-Y3"
      }
    },
    {
      "cell_type": "code",
      "source": [
        "lr = 1e-3\n",
        "batch_size = 64\n",
        "epochs = 20"
      ],
      "metadata": {
        "id": "EKwlLrjXf-hv"
      },
      "execution_count": 3,
      "outputs": []
    },
    {
      "cell_type": "code",
      "source": [
        "device = 'cuda' if torch.cuda.is_available() else 'cpu'\n",
        "device"
      ],
      "metadata": {
        "colab": {
          "base_uri": "https://localhost:8080/",
          "height": 35
        },
        "id": "KgT-9l4Th8PH",
        "outputId": "0b4656b1-d6bc-4aac-df71-a26e7718a5b2"
      },
      "execution_count": 4,
      "outputs": [
        {
          "output_type": "execute_result",
          "data": {
            "text/plain": [
              "'cpu'"
            ],
            "application/vnd.google.colaboratory.intrinsic+json": {
              "type": "string"
            }
          },
          "metadata": {},
          "execution_count": 4
        }
      ]
    },
    {
      "cell_type": "markdown",
      "source": [
        "dataset 준비"
      ],
      "metadata": {
        "id": "APzgVaOLgBnu"
      }
    },
    {
      "cell_type": "code",
      "source": [
        "transform = transforms.Compose([\n",
        "    transforms.Resize((32, 32)),\n",
        "    transforms.ToTensor()\n",
        "])\n",
        "trainset = torchvision.datasets.MNIST(root='./datasets',\n",
        "                                      transform=transform,\n",
        "                                      train=True,\n",
        "                                      download=True)\n",
        "testset = torchvision.datasets.MNIST(root='./datasets',\n",
        "                                     transform=transform,\n",
        "                                     train=False,\n",
        "                                     download=True)"
      ],
      "metadata": {
        "colab": {
          "base_uri": "https://localhost:8080/"
        },
        "id": "qtE0GAewgD9j",
        "outputId": "e0b85265-8c61-4c87-f3e6-c79836dbf84c"
      },
      "execution_count": 5,
      "outputs": [
        {
          "output_type": "stream",
          "name": "stdout",
          "text": [
            "Downloading http://yann.lecun.com/exdb/mnist/train-images-idx3-ubyte.gz\n",
            "Downloading http://yann.lecun.com/exdb/mnist/train-images-idx3-ubyte.gz to ./datasets/MNIST/raw/train-images-idx3-ubyte.gz\n"
          ]
        },
        {
          "output_type": "stream",
          "name": "stderr",
          "text": [
            "100%|██████████| 9912422/9912422 [00:00<00:00, 284934935.50it/s]"
          ]
        },
        {
          "output_type": "stream",
          "name": "stdout",
          "text": [
            "Extracting ./datasets/MNIST/raw/train-images-idx3-ubyte.gz to ./datasets/MNIST/raw\n"
          ]
        },
        {
          "output_type": "stream",
          "name": "stderr",
          "text": [
            "\n"
          ]
        },
        {
          "output_type": "stream",
          "name": "stdout",
          "text": [
            "\n",
            "Downloading http://yann.lecun.com/exdb/mnist/train-labels-idx1-ubyte.gz\n",
            "Downloading http://yann.lecun.com/exdb/mnist/train-labels-idx1-ubyte.gz to ./datasets/MNIST/raw/train-labels-idx1-ubyte.gz\n"
          ]
        },
        {
          "output_type": "stream",
          "name": "stderr",
          "text": [
            "100%|██████████| 28881/28881 [00:00<00:00, 82912863.67it/s]\n"
          ]
        },
        {
          "output_type": "stream",
          "name": "stdout",
          "text": [
            "Extracting ./datasets/MNIST/raw/train-labels-idx1-ubyte.gz to ./datasets/MNIST/raw\n",
            "\n",
            "Downloading http://yann.lecun.com/exdb/mnist/t10k-images-idx3-ubyte.gz\n",
            "Downloading http://yann.lecun.com/exdb/mnist/t10k-images-idx3-ubyte.gz to ./datasets/MNIST/raw/t10k-images-idx3-ubyte.gz\n"
          ]
        },
        {
          "output_type": "stream",
          "name": "stderr",
          "text": [
            "100%|██████████| 1648877/1648877 [00:00<00:00, 178391750.84it/s]"
          ]
        },
        {
          "output_type": "stream",
          "name": "stdout",
          "text": [
            "Extracting ./datasets/MNIST/raw/t10k-images-idx3-ubyte.gz to ./datasets/MNIST/raw\n"
          ]
        },
        {
          "output_type": "stream",
          "name": "stderr",
          "text": [
            "\n"
          ]
        },
        {
          "output_type": "stream",
          "name": "stdout",
          "text": [
            "\n",
            "Downloading http://yann.lecun.com/exdb/mnist/t10k-labels-idx1-ubyte.gz\n",
            "Downloading http://yann.lecun.com/exdb/mnist/t10k-labels-idx1-ubyte.gz to ./datasets/MNIST/raw/t10k-labels-idx1-ubyte.gz\n"
          ]
        },
        {
          "output_type": "stream",
          "name": "stderr",
          "text": [
            "100%|██████████| 4542/4542 [00:00<00:00, 16158209.30it/s]\n"
          ]
        },
        {
          "output_type": "stream",
          "name": "stdout",
          "text": [
            "Extracting ./datasets/MNIST/raw/t10k-labels-idx1-ubyte.gz to ./datasets/MNIST/raw\n",
            "\n"
          ]
        }
      ]
    },
    {
      "cell_type": "code",
      "source": [
        "train_loader = DataLoader(trainset, batch_size=batch_size, shuffle=True)\n",
        "test_loader = DataLoader(testset, batch_size=batch_size, shuffle=False)"
      ],
      "metadata": {
        "id": "iM3f9BVgiZqr"
      },
      "execution_count": 6,
      "outputs": []
    },
    {
      "cell_type": "markdown",
      "source": [
        "model"
      ],
      "metadata": {
        "id": "Xh0MWURygEIZ"
      }
    },
    {
      "cell_type": "code",
      "source": [
        "class LeNet(nn.Module):\n",
        "    def __init__(self):\n",
        "        super(LeNet, self).__init__()\n",
        "        self.C1 = nn.Conv2d(1, 6, kernel_size=5)\n",
        "        self.S2 = nn.AvgPool2d(2)\n",
        "        self.C3 = nn.Conv2d(6, 16, kernel_size=5)\n",
        "        self.S4 = nn.AvgPool2d(2)\n",
        "        self.C5 = nn.Conv2d(16, 120, kernel_size=5)\n",
        "        self.F6 = nn.Linear(120,84)\n",
        "        self.Out = nn.Linear(84,10)\n",
        "    def forward(self, x):\n",
        "        x = F.sigmoid(self.C1(x))\n",
        "        x = self.S2(x)\n",
        "        x = F.sigmoid(self.C3(x))\n",
        "        x = self.S4(x)\n",
        "        x = F.sigmoid(self.C5(x))\n",
        "        x = F.sigmoid(self.F6(torch.squeeze(x)))\n",
        "        x = self.Out(x)\n",
        "        return x\n",
        "model = LeNet().to(device)\n",
        "model"
      ],
      "metadata": {
        "colab": {
          "base_uri": "https://localhost:8080/"
        },
        "id": "pnKck_CEgEWe",
        "outputId": "e92d1c76-20df-49ba-b9a2-365c7b9ea7cc"
      },
      "execution_count": 11,
      "outputs": [
        {
          "output_type": "execute_result",
          "data": {
            "text/plain": [
              "LeNet(\n",
              "  (C1): Conv2d(1, 6, kernel_size=(5, 5), stride=(1, 1))\n",
              "  (S2): AvgPool2d(kernel_size=2, stride=2, padding=0)\n",
              "  (C3): Conv2d(6, 16, kernel_size=(5, 5), stride=(1, 1))\n",
              "  (S4): AvgPool2d(kernel_size=2, stride=2, padding=0)\n",
              "  (C5): Conv2d(16, 120, kernel_size=(5, 5), stride=(1, 1))\n",
              "  (F6): Linear(in_features=120, out_features=84, bias=True)\n",
              "  (Out): Linear(in_features=84, out_features=10, bias=True)\n",
              ")"
            ]
          },
          "metadata": {},
          "execution_count": 11
        }
      ]
    },
    {
      "cell_type": "markdown",
      "source": [
        "train"
      ],
      "metadata": {
        "id": "I5Bx4Du7gHq5"
      }
    },
    {
      "cell_type": "code",
      "source": [
        "criterion = nn.CrossEntropyLoss()\n",
        "optimizer = optim.Adam(model.parameters(), lr=lr)"
      ],
      "metadata": {
        "id": "xCD_E--wgH4c"
      },
      "execution_count": 12,
      "outputs": []
    },
    {
      "cell_type": "code",
      "source": [
        "for epoch in range(epochs):\n",
        "    for images, labels in train_loader:\n",
        "        images, labels = images.to(device), labels.to(device)\n",
        "\n",
        "        outputs = model(images)\n",
        "        loss = criterion(outputs, labels)\n",
        "\n",
        "        optimizer.zero_grad()\n",
        "        loss.backward()\n",
        "        optimizer.step()\n",
        "    print(f'Epoch [{epoch}/{epochs}] Loss: {loss.item():.4f}')"
      ],
      "metadata": {
        "colab": {
          "base_uri": "https://localhost:8080/"
        },
        "id": "nemOOd1ZnX4_",
        "outputId": "fadce8b3-ef36-4f64-d037-2cd94076cccb"
      },
      "execution_count": 13,
      "outputs": [
        {
          "output_type": "stream",
          "name": "stdout",
          "text": [
            "Epoch [0/20] Loss: 0.4937\n",
            "Epoch [1/20] Loss: 0.1177\n",
            "Epoch [2/20] Loss: 0.1702\n",
            "Epoch [3/20] Loss: 0.1595\n",
            "Epoch [4/20] Loss: 0.1822\n",
            "Epoch [5/20] Loss: 0.0416\n",
            "Epoch [6/20] Loss: 0.0143\n",
            "Epoch [7/20] Loss: 0.0086\n",
            "Epoch [8/20] Loss: 0.0577\n",
            "Epoch [9/20] Loss: 0.0591\n",
            "Epoch [10/20] Loss: 0.0139\n",
            "Epoch [11/20] Loss: 0.0124\n",
            "Epoch [12/20] Loss: 0.0015\n",
            "Epoch [13/20] Loss: 0.0022\n",
            "Epoch [14/20] Loss: 0.0144\n",
            "Epoch [15/20] Loss: 0.0185\n",
            "Epoch [16/20] Loss: 0.0298\n",
            "Epoch [17/20] Loss: 0.0136\n",
            "Epoch [18/20] Loss: 0.0019\n",
            "Epoch [19/20] Loss: 0.0004\n"
          ]
        }
      ]
    },
    {
      "cell_type": "markdown",
      "source": [
        "test"
      ],
      "metadata": {
        "id": "3ZpBCqIfgIIJ"
      }
    },
    {
      "cell_type": "code",
      "source": [],
      "metadata": {
        "id": "Nvi7H5h8gIUc"
      },
      "execution_count": null,
      "outputs": []
    }
  ]
}