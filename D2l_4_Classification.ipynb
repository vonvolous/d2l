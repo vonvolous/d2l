{
  "nbformat": 4,
  "nbformat_minor": 0,
  "metadata": {
    "colab": {
      "provenance": [],
      "gpuType": "T4",
      "authorship_tag": "ABX9TyMTRivt+tYB5+4oYXeaP5KN",
      "include_colab_link": true
    },
    "kernelspec": {
      "name": "python3",
      "display_name": "Python 3"
    },
    "language_info": {
      "name": "python"
    },
    "accelerator": "GPU"
  },
  "cells": [
    {
      "cell_type": "markdown",
      "metadata": {
        "id": "view-in-github",
        "colab_type": "text"
      },
      "source": [
        "<a href=\"https://colab.research.google.com/github/vonvolous/d2l/blob/main/D2l_4_Classification.ipynb\" target=\"_parent\"><img src=\"https://colab.research.google.com/assets/colab-badge.svg\" alt=\"Open In Colab\"/></a>"
      ]
    },
    {
      "cell_type": "markdown",
      "source": [
        "### Image Classfication Dataset - MNIST dataset\n",
        "\n",
        "*   torch.nn.functional : 딥러닝에 자주 사용되는 수학적 함수\n",
        "*   transform : 데이터의 여러 형태 지정 가능\n",
        "\n"
      ],
      "metadata": {
        "id": "-InGNFprubQ1"
      }
    },
    {
      "cell_type": "code",
      "execution_count": null,
      "metadata": {
        "id": "wXeI9bsHuSjz"
      },
      "outputs": [],
      "source": [
        "import torch\n",
        "import torch.nn as nn\n",
        "import torch.nn.functional as F\n",
        "import torch.optim as optim\n",
        "from torchvision import datasets, transforms\n",
        "from matplotlib import pyplot as plt"
      ]
    },
    {
      "cell_type": "code",
      "source": [
        "is_cuda = torch.cuda.is_available()\n",
        "device = torch.device('cuda' if is_cuda else 'cpu')\n",
        "print('Current cuda device is', device)"
      ],
      "metadata": {
        "colab": {
          "base_uri": "https://localhost:8080/"
        },
        "id": "IahjQoEcvLzz",
        "outputId": "9c5e5231-2950-4da6-d4c8-6cab2becc248"
      },
      "execution_count": null,
      "outputs": [
        {
          "output_type": "stream",
          "name": "stdout",
          "text": [
            "Current cuda device is cuda\n"
          ]
        }
      ]
    },
    {
      "cell_type": "markdown",
      "source": [
        "파라미터 설정"
      ],
      "metadata": {
        "id": "Sfxe8Ff-v4LD"
      }
    },
    {
      "cell_type": "code",
      "source": [
        "batch_size = 50 # 전체 데이터 개수 / batch_size = batch 개수\n",
        "learning_rate = 0.0001\n",
        "epoch_num = 15"
      ],
      "metadata": {
        "id": "dFZ5LSCbvxgE"
      },
      "execution_count": null,
      "outputs": []
    },
    {
      "cell_type": "markdown",
      "source": [
        "MNIST 데이터 불러오기"
      ],
      "metadata": {
        "id": "9ofcXS8Ww5Mv"
      }
    },
    {
      "cell_type": "code",
      "source": [
        "train_data = datasets.MNIST(root = './data/02/',\n",
        "                            train = True,\n",
        "                            download = True,\n",
        "                            transform = transforms.ToTensor())\n",
        "test_data = datasets.MNIST(root = './data/02/',\n",
        "                           train = False,\n",
        "                           download = True,\n",
        "                           transform = transforms.ToTensor())\n",
        "print('number of training data : ', len(train_data))\n",
        "print('number of test data : ', len(test_data))"
      ],
      "metadata": {
        "colab": {
          "base_uri": "https://localhost:8080/"
        },
        "id": "RMLjkyGew5jF",
        "outputId": "701fec05-26f0-450b-f650-f2145da39956"
      },
      "execution_count": null,
      "outputs": [
        {
          "output_type": "stream",
          "name": "stdout",
          "text": [
            "Downloading http://yann.lecun.com/exdb/mnist/train-images-idx3-ubyte.gz\n",
            "Downloading http://yann.lecun.com/exdb/mnist/train-images-idx3-ubyte.gz to ./data/02/MNIST/raw/train-images-idx3-ubyte.gz\n"
          ]
        },
        {
          "output_type": "stream",
          "name": "stderr",
          "text": [
            "100%|██████████| 9912422/9912422 [00:00<00:00, 138767026.40it/s]\n"
          ]
        },
        {
          "output_type": "stream",
          "name": "stdout",
          "text": [
            "Extracting ./data/02/MNIST/raw/train-images-idx3-ubyte.gz to ./data/02/MNIST/raw\n",
            "\n",
            "Downloading http://yann.lecun.com/exdb/mnist/train-labels-idx1-ubyte.gz\n",
            "Downloading http://yann.lecun.com/exdb/mnist/train-labels-idx1-ubyte.gz to ./data/02/MNIST/raw/train-labels-idx1-ubyte.gz\n"
          ]
        },
        {
          "output_type": "stream",
          "name": "stderr",
          "text": [
            "100%|██████████| 28881/28881 [00:00<00:00, 44049343.21it/s]\n"
          ]
        },
        {
          "output_type": "stream",
          "name": "stdout",
          "text": [
            "Extracting ./data/02/MNIST/raw/train-labels-idx1-ubyte.gz to ./data/02/MNIST/raw\n",
            "\n",
            "Downloading http://yann.lecun.com/exdb/mnist/t10k-images-idx3-ubyte.gz\n",
            "Downloading http://yann.lecun.com/exdb/mnist/t10k-images-idx3-ubyte.gz to ./data/02/MNIST/raw/t10k-images-idx3-ubyte.gz\n"
          ]
        },
        {
          "output_type": "stream",
          "name": "stderr",
          "text": [
            "100%|██████████| 1648877/1648877 [00:00<00:00, 43066321.66it/s]"
          ]
        },
        {
          "output_type": "stream",
          "name": "stdout",
          "text": [
            "Extracting ./data/02/MNIST/raw/t10k-images-idx3-ubyte.gz to ./data/02/MNIST/raw\n"
          ]
        },
        {
          "output_type": "stream",
          "name": "stderr",
          "text": [
            "\n"
          ]
        },
        {
          "output_type": "stream",
          "name": "stdout",
          "text": [
            "\n",
            "Downloading http://yann.lecun.com/exdb/mnist/t10k-labels-idx1-ubyte.gz\n",
            "Downloading http://yann.lecun.com/exdb/mnist/t10k-labels-idx1-ubyte.gz to ./data/02/MNIST/raw/t10k-labels-idx1-ubyte.gz\n"
          ]
        },
        {
          "output_type": "stream",
          "name": "stderr",
          "text": [
            "100%|██████████| 4542/4542 [00:00<00:00, 22074772.62it/s]\n"
          ]
        },
        {
          "output_type": "stream",
          "name": "stdout",
          "text": [
            "Extracting ./data/02/MNIST/raw/t10k-labels-idx1-ubyte.gz to ./data/02/MNIST/raw\n",
            "\n",
            "number of training data :  60000\n",
            "number of test data :  10000\n"
          ]
        }
      ]
    },
    {
      "cell_type": "markdown",
      "source": [
        "데이터 확인\n",
        "\n",
        "* squeeze() : 차원이 1인 차원을 제거해줌\n",
        "    * pytorch에서 불러온 MNIST 데이터의 경우 [1,28,28]로 구성됨\n",
        "    * 따라서 1을 없애야 이미지 그릴 수 있음"
      ],
      "metadata": {
        "id": "RzqMkdbKxZvj"
      }
    },
    {
      "cell_type": "code",
      "source": [
        "img, label = train_data[0]\n",
        "plt.imshow(img.squeeze().numpy(), cmap = 'gray')\n",
        "plt.show()"
      ],
      "metadata": {
        "colab": {
          "base_uri": "https://localhost:8080/",
          "height": 430
        },
        "id": "3kl7_QznxZ88",
        "outputId": "91bb2b6b-136d-43bd-f705-706ccf7ae5c0"
      },
      "execution_count": null,
      "outputs": [
        {
          "output_type": "display_data",
          "data": {
            "text/plain": [
              "<Figure size 640x480 with 1 Axes>"
            ],
            "image/png": "[encoded data removed]"
          },
          "metadata": {}
        }
      ]
    },
    {
      "cell_type": "markdown",
      "source": [
        "미니 배치 구성\n",
        "* torch.utils.data.DataLoader\n",
        "    * 배치 사이즈로 구성\n",
        "    * shuffle 하는 이유 : 데이터의 순서 학습하는 것 방지"
      ],
      "metadata": {
        "id": "FPA3u-Ofy0kM"
      }
    },
    {
      "cell_type": "code",
      "source": [
        "train_loader = torch.utils.data.DataLoader(dataset = train_data,\n",
        "                                           batch_size = batch_size,\n",
        "                                           shuffle = True)\n",
        "test_loader = torch.utils.data.DataLoader(dataset = test_data,\n",
        "                                           batch_size = batch_size,\n",
        "                                           shuffle = True)\n",
        "first_batch = train_loader.__iter__().__next__()"
      ],
      "metadata": {
        "id": "cWkjJDmDy0u-"
      },
      "execution_count": null,
      "outputs": []
    },
    {
      "cell_type": "markdown",
      "source": [
        "배치 확인"
      ],
      "metadata": {
        "id": "Zb2YNHXfzSQI"
      }
    },
    {
      "cell_type": "code",
      "source": [
        "print('{:15s} | {:<25s} | {}'.format('name', 'type', 'size'))\n",
        "print('{:15s} | {:<25s} | {}'.format('Num of Batch', '', len(train_loader)))\n",
        "print('{:15s} | {:<25s} | {}'.format('first_batch', str(type(first_batch)), len(first_batch)))\n",
        "print('{:15s} | {:<25s} | {}'.format('first_batch[0]', str(type(first_batch[0])), first_batch[0].shape))\n",
        "print('{:15s} | {:<25s} | {}'.format('first_batch[1]', str(type(first_batch[1])), first_batch[1].shape))"
      ],
      "metadata": {
        "colab": {
          "base_uri": "https://localhost:8080/"
        },
        "id": "mb5u3tquzRty",
        "outputId": "9bac01c5-7bda-47f5-ce7e-7f6c75e22a69"
      },
      "execution_count": null,
      "outputs": [
        {
          "output_type": "stream",
          "name": "stdout",
          "text": [
            "name            | type                      | size\n",
            "Num of Batch    |                           | 1200\n",
            "first_batch     | <class 'list'>            | 2\n",
            "first_batch[0]  | <class 'torch.Tensor'>    | torch.Size([50, 1, 28, 28])\n",
            "first_batch[1]  | <class 'torch.Tensor'>    | torch.Size([50])\n"
          ]
        }
      ]
    },
    {
      "cell_type": "markdown",
      "source": [
        "모델 구성\n",
        "* CNN 텐서 사이즈 계산\n",
        "    * O = (I - K + 2P)/S + 1\n",
        "    * O : output image size\n",
        "    * I : input image size\n",
        "    * K : kernel size\n",
        "    * S : stride\n",
        "    * P : padding size\n",
        "* Padding\n",
        "    * valid padding : 패딩을 추가하지 않은 형태\n",
        "        * 항상 입력 사이즈보다 작게 됨\n",
        "    * full padding : 입력 데이터의 모든 원소가 합성곱 연산에 동일한 비율로 참여하도록 함\n",
        "        * 패딩의 폭 P = K - 1\n",
        "    * same padding : 출력 크기를 입력크기와 동일하게 유지\n",
        "        * 패딩의 폭 P = (K - 1) / 2"
      ],
      "metadata": {
        "id": "rW5BtEszzWB0"
      }
    },
    {
      "cell_type": "code",
      "source": [
        "class CNN(nn.Module) :\n",
        "    def __init__(self) :\n",
        "        super(CNN, self).__init__()\n",
        "        # batch_size = 50, MNIST 데이터는 28 x 28 resolution\n",
        "        self.conv1 = nn.Conv2d(1, 32, 3, 1, padding = 'same') # nn.Conv2d(in_channels, out_channels, kernel_size, padding)\n",
        "        self.conv2 = nn.Conv2d(32, 64, 3, 1, padding = 'same')\n",
        "        self.dropout = nn.Dropout2d(0.25)\n",
        "        # (입력 뉴런, 출력 뉴런)\n",
        "        self.fc1 = nn.Linear(3136, 1000) # 7*7*64 = 3136\n",
        "        self.fc2 = nn.Linear(1000, 10)\n",
        "\n",
        "    def forward(self, x) :\n",
        "        # 1번 레이어 : 합성곱층\n",
        "        x = self.conv1(x)\n",
        "        # [50, 1, 28, 28] -> [50, 32, 28, 28]\n",
        "\n",
        "        x = F.relu(x)\n",
        "        # [50, 32, 28, 28] -> [50, 32, 28, 28]\n",
        "\n",
        "        x = F.max_pool2d(x, 2)\n",
        "        # [50, 32, 28, 28] -> [50, 32, 14, 14], max_pool을 하면 지정한 사이즈만큼 줄어듦\n",
        "\n",
        "        # 2번 레이어 : 합성곱층\n",
        "        x = self.conv2(x)\n",
        "        # [50, 32, 14, 14] -> [50, 64, 14, 14]\n",
        "\n",
        "        x = F.relu(x)\n",
        "        # [50, 64, 14, 14] -> [50, 64, 14, 14]\n",
        "\n",
        "        x = F.max_pool2d(x, 2)\n",
        "        # [50, 64, 14, 14] -> [50, 64, 7, 7]\n",
        "\n",
        "        # 3번 레이어 : 전결합층\n",
        "        x = self.dropout(x)\n",
        "        # [50, 64, 7, 7] -> [50, 64, 7, 7]\n",
        "\n",
        "        x = torch.flatten(x ,1)\n",
        "        # [50, 64, 7, 7] -> [50, 3136], 여기서 flatten 하면서 64 * 7 * 7 = 3136됨!\n",
        "\n",
        "        x = self.fc1(x)\n",
        "        # [50, 3136] -> [50, 1000]\n",
        "\n",
        "        x = F.relu(x)\n",
        "        # [50, 3136] -> [50, 1000]\n",
        "\n",
        "        x = self.fc2(x)\n",
        "        # [50, 1000] -> [50, 10]\n",
        "\n",
        "        output = F.log_softmax(x, dim = 1)\n",
        "        # [50, 10] -> [50, 10]\n",
        "\n",
        "        return output\n",
        "\n",
        "model = CNN().to(device)\n",
        "optimizer = optim.Adam(model.parameters(), lr = learning_rate)\n",
        "criterion = nn.CrossEntropyLoss()"
      ],
      "metadata": {
        "id": "ZQS36233zWLQ"
      },
      "execution_count": null,
      "outputs": []
    },
    {
      "cell_type": "markdown",
      "source": [
        "모델 학습"
      ],
      "metadata": {
        "id": "0-mnOJIp6WaI"
      }
    },
    {
      "cell_type": "code",
      "source": [
        "model.train()\n",
        "i = 1\n",
        "for epoch in range(epoch_num) :\n",
        "    for data, target in train_loader :\n",
        "        data = data.to(device)\n",
        "        target = target.to(device)\n",
        "        optimizer.zero_grad()\n",
        "        output = model(data)\n",
        "        loss = criterion(output, target)\n",
        "        loss.backward()\n",
        "        optimizer.step()\n",
        "        if i % 1000 == 0:\n",
        "            print(\"Train Step : {}\\tLoss : {:3f}\".format(i, loss.item()))\n",
        "        i += 1"
      ],
      "metadata": {
        "colab": {
          "base_uri": "https://localhost:8080/"
        },
        "id": "YssKaxIT6Wi0",
        "outputId": "9a69a6e9-3890-4126-c207-a3a53c922abe"
      },
      "execution_count": null,
      "outputs": [
        {
          "output_type": "stream",
          "name": "stdout",
          "text": [
            "Train Step : 1000\tLoss : 0.145738\n",
            "Train Step : 2000\tLoss : 0.060328\n",
            "Train Step : 3000\tLoss : 0.014166\n",
            "Train Step : 4000\tLoss : 0.100173\n",
            "Train Step : 5000\tLoss : 0.011539\n",
            "Train Step : 6000\tLoss : 0.073358\n",
            "Train Step : 7000\tLoss : 0.058211\n",
            "Train Step : 8000\tLoss : 0.010091\n",
            "Train Step : 9000\tLoss : 0.022728\n",
            "Train Step : 10000\tLoss : 0.061178\n",
            "Train Step : 11000\tLoss : 0.015414\n",
            "Train Step : 12000\tLoss : 0.004768\n",
            "Train Step : 13000\tLoss : 0.004097\n",
            "Train Step : 14000\tLoss : 0.003642\n",
            "Train Step : 15000\tLoss : 0.033497\n",
            "Train Step : 16000\tLoss : 0.049911\n",
            "Train Step : 17000\tLoss : 0.062489\n",
            "Train Step : 18000\tLoss : 0.000712\n"
          ]
        }
      ]
    },
    {
      "cell_type": "markdown",
      "source": [
        "모델 평가"
      ],
      "metadata": {
        "id": "7aIhtr2SAQkO"
      }
    },
    {
      "cell_type": "code",
      "source": [
        "model.eval() # 평가시에는 dropout이 off 됨\n",
        "correct = 0\n",
        "for data, target in test_loader :\n",
        "    data = data.to(device)\n",
        "    target = target.to(device)\n",
        "    output = model(data)\n",
        "    prediction = output.data.max(1)[1]\n",
        "    correct += prediction.eq(target.data).sum()\n",
        "print('Test set Accuracy : {:.2f}%'.format(100. * correct / len(test_loader.dataset)))"
      ],
      "metadata": {
        "colab": {
          "base_uri": "https://localhost:8080/"
        },
        "id": "Lgz5Nrr5AQ4b",
        "outputId": "13f7cfcd-3fa7-4b4a-9349-55973cb137ca"
      },
      "execution_count": null,
      "outputs": [
        {
          "output_type": "stream",
          "name": "stdout",
          "text": [
            "Test set Accuracy : 99.16%\n"
          ]
        }
      ]
    },
    {
      "cell_type": "markdown",
      "source": [
        "### Image Classification Dataset - CIFAR10 dataset"
      ],
      "metadata": {
        "id": "u3-KTI6jBDRW"
      }
    },
    {
      "cell_type": "code",
      "source": [
        "import torch\n",
        "import torchvision\n",
        "import torchvision.transforms as transforms"
      ],
      "metadata": {
        "id": "FawhBfGuBIIZ"
      },
      "execution_count": null,
      "outputs": []
    },
    {
      "cell_type": "markdown",
      "source": [
        "torchvision 데이터셋의 출력은 [0,1] 범위를 가지는 PILImage이므로 [-1,1]의 범위로 정규화된 Tensor로 변환해주기"
      ],
      "metadata": {
        "id": "DkmsGsujBlFx"
      }
    },
    {
      "cell_type": "code",
      "source": [
        "transform = transforms.Compose(\n",
        "    [transforms.ToTensor(),\n",
        "     transforms.Normalize((0.5,0.5,0.5), (0.5,0.5,0.5))])\n",
        "\n",
        "batch_size = 4\n",
        "trainset = torchvision.datasets.CIFAR10(root = './data',\n",
        "                                        train = True,\n",
        "                                        download = True,\n",
        "                                        transform = transform)\n",
        "trainloader = torch.utils.data.DataLoader(trainset, batch_size = batch_size, shuffle = True, num_workers = 2)\n",
        "testset = torchvision.datasets.CIFAR10(root = './data',\n",
        "                                       train = False,\n",
        "                                       download = True,\n",
        "                                       transform = transform)\n",
        "testloader = torch.utils.data.DataLoader(testset, batch_size = batch_size, shuffle = False, num_workers = 2)\n",
        "\n",
        "classes = ('plane', 'car', 'bird', 'cat',\n",
        "           'deer', 'dog', 'frog', 'horse', 'ship', 'truck')"
      ],
      "metadata": {
        "colab": {
          "base_uri": "https://localhost:8080/"
        },
        "id": "OypZD7q3BlQ0",
        "outputId": "dfea645a-00b6-47e8-8bb1-57e6fd3a3600"
      },
      "execution_count": null,
      "outputs": [
        {
          "output_type": "stream",
          "name": "stdout",
          "text": [
            "Downloading https://www.cs.toronto.edu/~kriz/cifar-10-python.tar.gz to ./data/cifar-10-python.tar.gz\n"
          ]
        },
        {
          "output_type": "stream",
          "name": "stderr",
          "text": [
            "100%|██████████| 170498071/170498071 [00:03<00:00, 49091523.63it/s]\n"
          ]
        },
        {
          "output_type": "stream",
          "name": "stdout",
          "text": [
            "Extracting ./data/cifar-10-python.tar.gz to ./data\n",
            "Files already downloaded and verified\n"
          ]
        }
      ]
    },
    {
      "cell_type": "markdown",
      "source": [
        "학습용 이미지 보기"
      ],
      "metadata": {
        "id": "7Ebzzu2oCqzl"
      }
    },
    {
      "cell_type": "code",
      "source": [
        "import matplotlib.pyplot as plt\n",
        "import numpy as np\n",
        "\n",
        "def imshow(img) :\n",
        "    img = img/2 + 0.5\n",
        "    npimg = img.numpy()\n",
        "    plt.imshow(np.transpose(npimg, (1,2,0)))\n",
        "    plt.show()\n",
        "\n",
        "# 학습용 이미지를 무작위로 가져옴\n",
        "dataiter = iter(trainloader)\n",
        "images, labels = next(dataiter)\n",
        "\n",
        "# 이미지 보여주기\n",
        "imshow(torchvision.utils.make_grid(images))\n",
        "# 정답 label 출력\n",
        "print(' '.join(f'{classes[labels[j]]:5s}' for j in range(batch_size)))"
      ],
      "metadata": {
        "colab": {
          "base_uri": "https://localhost:8080/",
          "height": 211
        },
        "id": "atfAgQuwCrAY",
        "outputId": "3c2e17c1-4cfd-4d59-9fc9-af576ae41a9e"
      },
      "execution_count": null,
      "outputs": [
        {
          "output_type": "display_data",
          "data": {
            "text/plain": [
              "<Figure size 640x480 with 1 Axes>"
            ],
            "image/png": "[encoded data removed]"
          },
          "metadata": {}
        },
        {
          "output_type": "stream",
          "name": "stdout",
          "text": [
            "cat   deer  bird  deer \n"
          ]
        }
      ]
    },
    {
      "cell_type": "markdown",
      "source": [
        "합성곱 신경망 모델 정의 (CNN)"
      ],
      "metadata": {
        "id": "yYjPjgVtDVMI"
      }
    },
    {
      "cell_type": "code",
      "source": [
        "import torch.nn as nn\n",
        "import torch.nn.functional as F\n",
        "\n",
        "class Net(nn.Module) :\n",
        "    def __init__(self):\n",
        "        super().__init__()\n",
        "        self.conv1 = nn.Conv2d(3,6,5)\n",
        "        self.pool = nn.MaxPool2d(2,2)\n",
        "        self.conv2 = nn.Conv2d(6, 16, 5)\n",
        "        self.fc1 = nn.Linear(16 * 5 * 5, 120)\n",
        "        self.fc2 = nn.Linear(120, 84)\n",
        "        self.fc3 = nn.Linear(84, 10)\n",
        "    def forward(self, x):\n",
        "        x = self.pool(F.relu(self.conv1(x)))\n",
        "        x = self.pool(F.relu(self.conv2(x)))\n",
        "        x = torch.flatten(x, 1) # 배치를 제외한 모든 차원 평탄화\n",
        "        x = F.relu(self.fc1(x))\n",
        "        x = F.relu(self.fc2(x))\n",
        "        x = self.fc3(x)\n",
        "        return x\n",
        "\n",
        "net = Net()"
      ],
      "metadata": {
        "id": "-OjQedM0DVWP"
      },
      "execution_count": null,
      "outputs": []
    },
    {
      "cell_type": "markdown",
      "source": [
        "손실 함수와 Optimizer 정의"
      ],
      "metadata": {
        "id": "T-OCwISDEOG3"
      }
    },
    {
      "cell_type": "code",
      "source": [
        "import torch.optim as optim\n",
        "\n",
        "criterion = nn.CrossEntropyLoss()\n",
        "optimizer = optim.SGD(net.parameters(), lr=0.001, momentum=0.9)"
      ],
      "metadata": {
        "id": "f9oPbgzqENhP"
      },
      "execution_count": null,
      "outputs": []
    },
    {
      "cell_type": "markdown",
      "source": [
        "신경망 학습"
      ],
      "metadata": {
        "id": "LMTd8f3qEbeo"
      }
    },
    {
      "cell_type": "code",
      "source": [
        "for epoch in range(2):\n",
        "    running_loss = 0.0\n",
        "    for i, data in enumerate(trainloader, 0):\n",
        "        inputs, labels = data\n",
        "        # gradient 매개변수를 0으로 만듦\n",
        "        optimizer.zero_grad()\n",
        "\n",
        "        # 순전파 + 역전파 + 최적화\n",
        "        outputs = net(inputs)\n",
        "        loss = criterion(outputs, labels)\n",
        "        loss.backward()\n",
        "        optimizer.step()\n",
        "\n",
        "        # 통계 출력\n",
        "        running_loss += loss.item()\n",
        "        if i % 2000 == 1999 : # print every 2000 mini-batches\n",
        "            print(f'[{epoch + 1}, {i + 1:5d}] loss: {running_loss / 2000:.3f}')\n",
        "            running_loss = 0.0\n",
        "print('Finished Training')"
      ],
      "metadata": {
        "colab": {
          "base_uri": "https://localhost:8080/"
        },
        "id": "qLTvggpBEbqK",
        "outputId": "2ac4664a-12f3-48f2-cdc3-66795a7c18f9"
      },
      "execution_count": null,
      "outputs": [
        {
          "output_type": "stream",
          "name": "stdout",
          "text": [
            "[1,  2000] loss: 2.180\n",
            "[1,  4000] loss: 1.850\n",
            "[1,  6000] loss: 1.668\n",
            "[1,  8000] loss: 1.566\n",
            "[1, 10000] loss: 1.504\n",
            "[1, 12000] loss: 1.455\n",
            "[2,  2000] loss: 1.394\n",
            "[2,  4000] loss: 1.347\n",
            "[2,  6000] loss: 1.339\n",
            "[2,  8000] loss: 1.321\n",
            "[2, 10000] loss: 1.287\n",
            "[2, 12000] loss: 1.268\n",
            "Finished Training\n"
          ]
        }
      ]
    },
    {
      "cell_type": "markdown",
      "source": [
        "학습한 모델 저장"
      ],
      "metadata": {
        "id": "fIVaG_SlFx23"
      }
    },
    {
      "cell_type": "code",
      "source": [
        "PATH = './cifar_net.pth'\n",
        "torch.save(net.state_dict(), PATH)"
      ],
      "metadata": {
        "id": "wjr7LOleFyCF"
      },
      "execution_count": null,
      "outputs": []
    },
    {
      "cell_type": "markdown",
      "source": [
        "시험용 데이터로 테스트\n",
        "* 시험용 데이터 확인\n",
        "* 저장한 모델 불러오기"
      ],
      "metadata": {
        "id": "GlNUeFC9F0ZU"
      }
    },
    {
      "cell_type": "code",
      "source": [
        "dataiter = iter(testloader)\n",
        "images, labels = next(dataiter)\n",
        "\n",
        "# 이미지 출력\n",
        "imshow(torchvision.utils.make_grid(images))\n",
        "print('GroundTruth: ', ' '.join(f'{classes[labels[j]]:5s}' for j in range(4)))"
      ],
      "metadata": {
        "colab": {
          "base_uri": "https://localhost:8080/",
          "height": 211
        },
        "id": "jUP80FQTF0iN",
        "outputId": "a7bf9024-eb7a-4423-af2d-8b17fe3bdd81"
      },
      "execution_count": null,
      "outputs": [
        {
          "output_type": "display_data",
          "data": {
            "text/plain": [
              "<Figure size 640x480 with 1 Axes>"
            ],
            "image/png": "[encoded data removed]"
          },
          "metadata": {}
        },
        {
          "output_type": "stream",
          "name": "stdout",
          "text": [
            "GroundTruth:  cat   ship  ship  plane\n"
          ]
        }
      ]
    },
    {
      "cell_type": "code",
      "source": [
        "# 저장한 모델 불러오기\n",
        "net = Net()\n",
        "net.load_state_dict(torch.load(PATH))"
      ],
      "metadata": {
        "colab": {
          "base_uri": "https://localhost:8080/"
        },
        "id": "yuFqh2saGgNX",
        "outputId": "f03c9d84-22e3-4d5c-e0db-d850c23cc033"
      },
      "execution_count": null,
      "outputs": [
        {
          "output_type": "execute_result",
          "data": {
            "text/plain": [
              "<All keys matched successfully>"
            ]
          },
          "metadata": {},
          "execution_count": 38
        }
      ]
    },
    {
      "cell_type": "code",
      "source": [
        "outputs = net(images)"
      ],
      "metadata": {
        "id": "X--qzjHZGozT"
      },
      "execution_count": null,
      "outputs": []
    },
    {
      "cell_type": "code",
      "source": [
        "_, predicted = torch.max(outputs, 1)\n",
        "print('Predicted: ', ' '.join(f'{classes[predicted[j]]:5s}' for j in range(4)))"
      ],
      "metadata": {
        "colab": {
          "base_uri": "https://localhost:8080/"
        },
        "id": "dGErT8ryGsdL",
        "outputId": "91ce3cfe-2b5f-4e00-9ea6-887c5eb8ab03"
      },
      "execution_count": null,
      "outputs": [
        {
          "output_type": "stream",
          "name": "stdout",
          "text": [
            "Predicted:  cat   ship  ship  ship \n"
          ]
        }
      ]
    },
    {
      "cell_type": "code",
      "source": [
        "# 전체 데이터셋에 대한 성능 분석\n",
        "correct = 0\n",
        "total = 0\n",
        "\n",
        "with torch.no_grad() :\n",
        "    for data in testloader :\n",
        "        images, labels = data\n",
        "        outputs = net(images)\n",
        "        _, predicted = torch.max(outputs.data, 1)\n",
        "        total += labels.size(0)\n",
        "        correct += (predicted == labels).sum().item()\n",
        "\n",
        "print(f'Accuracy of the network on the 10000 test images: {100 * correct // total} %')"
      ],
      "metadata": {
        "colab": {
          "base_uri": "https://localhost:8080/"
        },
        "id": "dEe8qfO8G-X3",
        "outputId": "ced09fa1-d502-4ceb-cb4a-953dffa5e601"
      },
      "execution_count": null,
      "outputs": [
        {
          "output_type": "stream",
          "name": "stdout",
          "text": [
            "Accuracy of the network on the 10000 test images: 56 %\n"
          ]
        }
      ]
    },
    {
      "cell_type": "code",
      "source": [
        "# 각 클래스 별로 정확도 확인\n",
        "correct_pred = {classname: 0 for classname in classes}\n",
        "total_pred = {classname: 0 for classname in classes}\n",
        "\n",
        "with torch.no_grad():\n",
        "    for data in testloader:\n",
        "        images, labels = data\n",
        "        outputs = net(images)\n",
        "        _, predictions = torch.max(outputs, 1)\n",
        "\n",
        "        # 각 분류별 올바른 예측 수 합계\n",
        "        for label, prediction in zip(labels, predictions):\n",
        "            if label == prediction:\n",
        "                correct_pred[classes[label]] += 1\n",
        "            total_pred[classes[label]] += 1\n",
        "# 각 분류별 정확도 출력\n",
        "for classname, correct_count in correct_pred.items():\n",
        "    accuracy = 100 * float(correct_count) / total_pred[classname]\n",
        "    print(f'Accuracy for class: {classname:5s} is {accuracy:.1f} %')"
      ],
      "metadata": {
        "colab": {
          "base_uri": "https://localhost:8080/"
        },
        "id": "K-J0V02jHd-1",
        "outputId": "54b18a70-4f54-4a89-c632-1c1d3c658c94"
      },
      "execution_count": null,
      "outputs": [
        {
          "output_type": "stream",
          "name": "stdout",
          "text": [
            "Accuracy for class: plane is 50.2 %\n",
            "Accuracy for class: car   is 65.1 %\n",
            "Accuracy for class: bird  is 30.7 %\n",
            "Accuracy for class: cat   is 41.5 %\n",
            "Accuracy for class: deer  is 57.9 %\n",
            "Accuracy for class: dog   is 44.8 %\n",
            "Accuracy for class: frog  is 66.3 %\n",
            "Accuracy for class: horse is 58.7 %\n",
            "Accuracy for class: ship  is 76.0 %\n",
            "Accuracy for class: truck is 69.6 %\n"
          ]
        }
      ]
    },
    {
      "cell_type": "markdown",
      "source": [
        "### Softmax Regression - 1\n",
        "* 로지스틱 회귀: 둘 중 하나를 선택하는 이진 분류\n",
        "* 소프트맥스 회귀 : 여러 개의 선택지 중 하나를 선택하는 다중 분류"
      ],
      "metadata": {
        "id": "OGf5FC31LbB3"
      }
    },
    {
      "cell_type": "code",
      "source": [
        "import torch\n",
        "import torch.nn as nn\n",
        "import torch.nn.functional as F\n",
        "import torch.optim as optim\n",
        "\n",
        "torch.manual_seed(1) # 랜덤 시드 고정"
      ],
      "metadata": {
        "colab": {
          "base_uri": "https://localhost:8080/"
        },
        "id": "w23EcT-VLbKg",
        "outputId": "5a963468-5b61-41ef-b60b-c0c10d4675ed"
      },
      "execution_count": null,
      "outputs": [
        {
          "output_type": "execute_result",
          "data": {
            "text/plain": [
              "<torch._C.Generator at 0x7968e0f0d570>"
            ]
          },
          "metadata": {},
          "execution_count": 2
        }
      ]
    },
    {
      "cell_type": "markdown",
      "source": [
        "훈련 데이터 샘플 정의\n",
        "* x_train : 8 x 4 Tensor\n",
        "    * 8개의 샘플이 있고 각각 4개의 feature 존재\n",
        "* y_train : 클래스는 총 3개로 0, 1, 2의 값 가짐"
      ],
      "metadata": {
        "id": "-07dV1LGL-Bk"
      }
    },
    {
      "cell_type": "code",
      "source": [
        "x_train = [[1, 2, 1, 1],\n",
        "           [2, 1, 3, 2],\n",
        "           [3, 1, 3, 4],\n",
        "           [4, 1, 5, 5],\n",
        "           [1, 7, 5, 5],\n",
        "           [1, 2, 5, 6],\n",
        "           [1, 6, 6, 6],\n",
        "           [1, 7, 7, 7]]\n",
        "y_train = [2, 2, 2, 1, 1, 1, 0, 0]"
      ],
      "metadata": {
        "id": "hg1gxuR5L-O8"
      },
      "execution_count": null,
      "outputs": []
    },
    {
      "cell_type": "code",
      "source": [
        "x_train = torch.FloatTensor(x_train)\n",
        "y_train = torch.LongTensor(y_train)"
      ],
      "metadata": {
        "id": "yKESJukpPLej"
      },
      "execution_count": null,
      "outputs": []
    },
    {
      "cell_type": "code",
      "source": [
        "print(x_train.shape)\n",
        "print(y_train.shape)"
      ],
      "metadata": {
        "colab": {
          "base_uri": "https://localhost:8080/"
        },
        "id": "jSc1wCaIPT5S",
        "outputId": "cfc968f0-b3e4-4d15-a3b7-96c10b8dd937"
      },
      "execution_count": null,
      "outputs": [
        {
          "output_type": "stream",
          "name": "stdout",
          "text": [
            "torch.Size([8, 4])\n",
            "torch.Size([8])\n"
          ]
        }
      ]
    },
    {
      "cell_type": "markdown",
      "source": [
        "클래스 원핫 인코딩"
      ],
      "metadata": {
        "id": "jWwQgkAdPa3Y"
      }
    },
    {
      "cell_type": "code",
      "source": [
        "y_one_hot = torch.zeros(8,3)\n",
        "y_one_hot.scatter_(1, y_train.unsqueeze(1), 1)\n",
        "print(y_one_hot.shape)"
      ],
      "metadata": {
        "colab": {
          "base_uri": "https://localhost:8080/"
        },
        "id": "9tr9ZI_kPbCu",
        "outputId": "1ee53330-4ab0-4ca5-9b99-9e164b21bd8f"
      },
      "execution_count": null,
      "outputs": [
        {
          "output_type": "stream",
          "name": "stdout",
          "text": [
            "torch.Size([8, 3])\n"
          ]
        }
      ]
    },
    {
      "cell_type": "markdown",
      "source": [
        "모델 및 optimizer 정의"
      ],
      "metadata": {
        "id": "B4drzljEM1sl"
      }
    },
    {
      "cell_type": "code",
      "source": [
        "model = nn.Linear(4, 3)\n",
        "\n",
        "optimizer = optim.SGD(model.parameters(), lr=0.1)"
      ],
      "metadata": {
        "id": "kyiqtcP6M1-g"
      },
      "execution_count": null,
      "outputs": []
    },
    {
      "cell_type": "code",
      "source": [
        "# 모델 파라미터 확인, tensor 두개는 각각 가중치와 편향을 의미함\n",
        "print('#1')\n",
        "print(list(model.parameters()))"
      ],
      "metadata": {
        "colab": {
          "base_uri": "https://localhost:8080/"
        },
        "id": "ujNn_fdZNB-k",
        "outputId": "90a2a29d-b546-4fd9-dc1c-98178c8e764a"
      },
      "execution_count": null,
      "outputs": [
        {
          "output_type": "stream",
          "name": "stdout",
          "text": [
            "#1\n",
            "[Parameter containing:\n",
            "tensor([[ 0.2576, -0.2207, -0.0969,  0.2347],\n",
            "        [-0.4707,  0.2999, -0.1029,  0.2544],\n",
            "        [ 0.0695, -0.0612,  0.1387,  0.0247]], requires_grad=True), Parameter containing:\n",
            "tensor([ 0.1826, -0.1949, -0.0365], requires_grad=True)]\n"
          ]
        }
      ]
    },
    {
      "cell_type": "markdown",
      "source": [
        "epoch 설정 및 학습\n"
      ],
      "metadata": {
        "id": "UjEC9WKaNSf9"
      }
    },
    {
      "cell_type": "code",
      "source": [
        "# epoch = 1000\n",
        "nb_epochs = 1000\n",
        "for epoch in range(nb_epochs + 1) :\n",
        "    # H(x) 계산\n",
        "    prediction = model(x_train)\n",
        "    # cost 계산\n",
        "    cost = F.cross_entropy(prediction, y_train)\n",
        "\n",
        "    # cost 함수 미분 및 가중치 업데이트, cost로 H(x) 개선\n",
        "    optimizer.zero_grad()\n",
        "    cost.backward()\n",
        "    optimizer.step()\n",
        "\n",
        "    if epoch % 100 == 0 :\n",
        "        print('Epoch {:4d}/{} Cost: {:.6f}'.format(epoch, nb_epochs, cost.item()))"
      ],
      "metadata": {
        "colab": {
          "base_uri": "https://localhost:8080/"
        },
        "id": "BNgcJaw6NSph",
        "outputId": "7150a96e-0b05-46e2-f909-d92465606e19"
      },
      "execution_count": null,
      "outputs": [
        {
          "output_type": "stream",
          "name": "stdout",
          "text": [
            "Epoch    0/1000 Cost: 1.616785\n",
            "Epoch  100/1000 Cost: 0.658891\n",
            "Epoch  200/1000 Cost: 0.573443\n",
            "Epoch  300/1000 Cost: 0.518151\n",
            "Epoch  400/1000 Cost: 0.473265\n",
            "Epoch  500/1000 Cost: 0.433516\n",
            "Epoch  600/1000 Cost: 0.396563\n",
            "Epoch  700/1000 Cost: 0.360914\n",
            "Epoch  800/1000 Cost: 0.325392\n",
            "Epoch  900/1000 Cost: 0.289178\n",
            "Epoch 1000/1000 Cost: 0.254148\n"
          ]
        }
      ]
    },
    {
      "cell_type": "code",
      "source": [],
      "metadata": {
        "id": "7ONcC-3VQoZ_"
      },
      "execution_count": null,
      "outputs": []
    }
  ]
}