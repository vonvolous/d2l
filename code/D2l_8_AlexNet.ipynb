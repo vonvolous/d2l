{
  "nbformat": 4,
  "nbformat_minor": 0,
  "metadata": {
    "colab": {
      "provenance": [],
      "gpuType": "T4",
      "authorship_tag": "ABX9TyPiF7FaF5VGjRimXHvd6094",
      "include_colab_link": true
    },
    "kernelspec": {
      "name": "python3",
      "display_name": "Python 3"
    },
    "language_info": {
      "name": "python"
    },
    "accelerator": "GPU"
  },
  "cells": [
    {
      "cell_type": "markdown",
      "metadata": {
        "id": "view-in-github",
        "colab_type": "text"
      },
      "source": [
        "<a href=\"https://colab.research.google.com/github/vonvolous/d2l/blob/main/code/D2l_8_AlexNet.ipynb\" target=\"_parent\"><img src=\"https://colab.research.google.com/assets/colab-badge.svg\" alt=\"Open In Colab\"/></a>"
      ]
    },
    {
      "cell_type": "code",
      "execution_count": 2,
      "metadata": {
        "id": "HWq-Jk-0tjKt"
      },
      "outputs": [],
      "source": [
        "import torch\n",
        "import torch.nn as nn\n",
        "import torch.nn.functional as F\n",
        "import torch.optim as optim\n",
        "\n",
        "from torchsummary import summary\n",
        "from torchvision import transforms, datasets"
      ]
    },
    {
      "cell_type": "markdown",
      "source": [
        "AlexNet 모델 정의\n",
        "* 학습 데이터셋으론 FashionMNIST 사용\n",
        "* 입력 채널 수가 grey scale이므로 1\n",
        "* out_features는 데이터셋의 class가 10개이므로 10"
      ],
      "metadata": {
        "id": "zTmKzmobt3ka"
      }
    },
    {
      "cell_type": "code",
      "source": [
        "class AlexNet(nn.Module):\n",
        "    def __init__(self):\n",
        "        super(AlexNet, self).__init__()\n",
        "        self.conv1 = nn.Conv2d(1, 96, kernel_size=11, stride=4)\n",
        "        self.conv2 = nn.Conv2d(96, 256, kernel_size=5, padding=2)\n",
        "        self.conv3 = nn.Conv2d(256, 384, kernel_size=3, padding=1)\n",
        "        self.conv4 = nn.Conv2d(384, 384, kernel_size=3, padding=1)\n",
        "        self.conv5 = nn.Conv2d(384, 256, kernel_size=3, padding=1)\n",
        "        self.fc1 = nn.Linear(256 * 6 * 6, 4096)\n",
        "        self.fc2 = nn.Linear(4096, 4096)\n",
        "        self.fc3 = nn.Linear(4096, 10)\n",
        "\n",
        "    def forward(self, x):\n",
        "        x = F.relu(self.conv1(x))\n",
        "        x = F.max_pool2d(x, kernel_size=3, stride=2)\n",
        "\n",
        "        x = F.relu(self.conv2(x))\n",
        "        x = F.max_pool2d(x, kernel_size=3, stride=2)\n",
        "\n",
        "        x = F.relu(self.conv3(x))\n",
        "        x = F.relu(self.conv4(x))\n",
        "        x = F.relu(self.conv5(x))\n",
        "        x = F.max_pool2d(x, kernel_size=3, stride=2)\n",
        "\n",
        "        # 4차원을 1차원으로 펼쳐줌 => flatten\n",
        "        x = x.view(x.size(0), -1)\n",
        "\n",
        "        x = F.relu(self.fc1(x))\n",
        "        x = F.dropout(x, p=0.5)\n",
        "\n",
        "        x = F.relu(self.fc2(x))\n",
        "        x = F.dropout(x, p=0.5)\n",
        "\n",
        "        x = F.log_softmax(self.fc3(x), dim=1)\n",
        "        return x\n",
        "\n",
        "# @staticmethod는 이 아래 정의된 함수를 클래스에 대한 객체 작업을 거치지 않고 클래스 외부에서 사용할 수 있게 해줌!\n",
        "    @staticmethod\n",
        "    def transform():\n",
        "        return transforms.Compose([\n",
        "            transforms.Resize((227, 227)),\n",
        "            transforms.ToTensor(),\n",
        "            transforms.Normalize(mean=(0.1307,), std=(0.3081,))\n",
        "        ])\n"
      ],
      "metadata": {
        "id": "pt08pY74t2ku"
      },
      "execution_count": 3,
      "outputs": []
    },
    {
      "cell_type": "markdown",
      "source": [
        "model summary"
      ],
      "metadata": {
        "id": "T6BPyakQyskG"
      }
    },
    {
      "cell_type": "code",
      "source": [
        "if __name__ == \"__main__\":\n",
        "    use_cuda = torch.cuda.is_available()\n",
        "    print(\"use_cuda: \", use_cuda)\n",
        "\n",
        "    FloatTensor = torch.cuda.FloatTensor if use_cuda else torch.FloatTensor\n",
        "    device = torch.device(\"cuda:0\" if use_cuda else \"cpu\")\n",
        "\n",
        "    net = AlexNet().to(device)\n",
        "\n",
        "    X = torch.randn(size=(1, 1, 227, 227)).type(FloatTensor)\n",
        "    print(net(X))\n",
        "    print(summary(net, (1, 227, 227)))"
      ],
      "metadata": {
        "colab": {
          "base_uri": "https://localhost:8080/"
        },
        "id": "2wkben0Oysv-",
        "outputId": "a827897b-bc44-4a84-d382-21dc0698368d"
      },
      "execution_count": 5,
      "outputs": [
        {
          "output_type": "stream",
          "name": "stdout",
          "text": [
            "use_cuda:  True\n",
            "tensor([[-2.3178, -2.2899, -2.3271, -2.3043, -2.2789, -2.3178, -2.2982, -2.3066,\n",
            "         -2.2857, -2.3008]], device='cuda:0', grad_fn=<LogSoftmaxBackward0>)\n",
            "----------------------------------------------------------------\n",
            "        Layer (type)               Output Shape         Param #\n",
            "================================================================\n",
            "            Conv2d-1           [-1, 96, 55, 55]          11,712\n",
            "            Conv2d-2          [-1, 256, 27, 27]         614,656\n",
            "            Conv2d-3          [-1, 384, 13, 13]         885,120\n",
            "            Conv2d-4          [-1, 384, 13, 13]       1,327,488\n",
            "            Conv2d-5          [-1, 256, 13, 13]         884,992\n",
            "            Linear-6                 [-1, 4096]      37,752,832\n",
            "            Linear-7                 [-1, 4096]      16,781,312\n",
            "            Linear-8                   [-1, 10]          40,970\n",
            "================================================================\n",
            "Total params: 58,299,082\n",
            "Trainable params: 58,299,082\n",
            "Non-trainable params: 0\n",
            "----------------------------------------------------------------\n",
            "Input size (MB): 0.20\n",
            "Forward/backward pass size (MB): 5.02\n",
            "Params size (MB): 222.39\n",
            "Estimated Total Size (MB): 227.61\n",
            "----------------------------------------------------------------\n",
            "None\n"
          ]
        }
      ]
    },
    {
      "cell_type": "markdown",
      "source": [
        "model train and test"
      ],
      "metadata": {
        "id": "-2etuPxxz-Qv"
      }
    },
    {
      "cell_type": "code",
      "source": [
        "if __name__ == \"__main__\":\n",
        "    # hyper parameters\n",
        "    batch_size = 512\n",
        "    num_epochs = 3\n",
        "    learning_rate = 0.0001\n",
        "\n",
        "    # dataload\n",
        "    root = './MNIST_Fashion'\n",
        "    transform = AlexNet.transform()\n",
        "    train_set = datasets.FashionMNIST(root=root,\n",
        "                                      train=True,\n",
        "                                      download=True,\n",
        "                                      transform=transform)\n",
        "    train_loader = torch.utils.data.DataLoader(train_set,\n",
        "                                               batch_size=batch_size,\n",
        "                                               shuffle=True)\n",
        "    test_set = datasets.FashionMNIST(root=root,\n",
        "                                     train=False,\n",
        "                                     download=True,\n",
        "                                     transform=transform)\n",
        "    test_loader = torch.utils.data.DataLoader(test_set,\n",
        "                                              batch_size=batch_size,\n",
        "                                              shuffle=True)\n",
        "\n",
        "    # gpu\n",
        "    use_cuda = torch.cuda.is_available()\n",
        "    print(\"use_cuda: \", use_cuda)\n",
        "    device = torch.device(\"cuda:0\" if use_cuda else \"cpu\")\n",
        "    model = AlexNet().to(device)\n",
        "    criterion = F.nll_loss\n",
        "    optimizer = optim.Adam(model.parameters(), lr=learning_rate)\n",
        "\n",
        "    def train(model, device, train_loader, optimizer, epoch):\n",
        "        model.train()\n",
        "        for batch_idx, (data, target) in enumerate(train_loader):\n",
        "            target = target.type(torch.LongTensor)\n",
        "            data, target = data.to(device), target.to(device)\n",
        "\n",
        "            optimizer.zero_grad()\n",
        "            output = model(data)\n",
        "            loss = criterion(output, target)\n",
        "            loss.backward()\n",
        "            optimizer.step()\n",
        "\n",
        "            if (batch_idx + 1) % 30 == 0:\n",
        "                print(\"Train Epoch: {} [{}/{} ({:.0f}%)]\\tLoss: {:.6f}\".format(\n",
        "                    epoch, batch_idx * len(data), len(train_loader.dataset),\n",
        "                    100. * batch_idx / len(train_loader), loss.item()\n",
        "                ))\n",
        "    def test(model, device, test_loader):\n",
        "        model.eval()\n",
        "        test_loss = 0\n",
        "        correct = 0\n",
        "        with torch.no_grad():\n",
        "            for data, target in test_loader:\n",
        "                data, target = data.to(device), target.to(device)\n",
        "                output = model(data)\n",
        "                test_loss += criterion(output, target, reduction='sum').item()\n",
        "                pred = output.max(1, keepdim=True)[1]\n",
        "                correct += pred.eq(target.view_as(pred)).sum().item()\n",
        "\n",
        "            test_loss /= len(test_loader.dataset)\n",
        "            print(\"\\nTest set: Average loss: {:.4f}, Accuracy: {}/{} ({:.0f}%)\\n\".format(\n",
        "                test_loss, correct, len(test_loader.dataset), 100. * correct / len(test_loader.dataset)\n",
        "            ))\n",
        "            print('=' * 50)"
      ],
      "metadata": {
        "colab": {
          "base_uri": "https://localhost:8080/"
        },
        "id": "OWamAxuFzMkS",
        "outputId": "8eb27a52-7335-4ec0-9963-a8b28bdf502b"
      },
      "execution_count": 8,
      "outputs": [
        {
          "output_type": "stream",
          "name": "stdout",
          "text": [
            "use_cuda:  True\n"
          ]
        }
      ]
    },
    {
      "cell_type": "markdown",
      "source": [
        "train & test해서 accuracy & loss check"
      ],
      "metadata": {
        "id": "aBwScFZR3Jz1"
      }
    },
    {
      "cell_type": "code",
      "source": [
        "for epoch in range(1, num_epochs + 1):\n",
        "    train(model, device, train_loader, optimizer, epoch)\n",
        "    test(model, device, test_loader)"
      ],
      "metadata": {
        "colab": {
          "base_uri": "https://localhost:8080/"
        },
        "id": "lyLWT4rP1knX",
        "outputId": "4ca5fd56-f1d0-4a62-a2fc-70d39121f752"
      },
      "execution_count": 9,
      "outputs": [
        {
          "output_type": "stream",
          "name": "stdout",
          "text": [
            "Train Epoch: 1 [14848/60000 (25%)]\tLoss: 0.860316\n",
            "Train Epoch: 1 [30208/60000 (50%)]\tLoss: 0.696333\n",
            "Train Epoch: 1 [45568/60000 (75%)]\tLoss: 0.536629\n",
            "\n",
            "Test set: Average loss: 0.5245, Accuracy: 8069/10000 (81%)\n",
            "\n",
            "==================================================\n",
            "Train Epoch: 2 [14848/60000 (25%)]\tLoss: 0.419143\n",
            "Train Epoch: 2 [30208/60000 (50%)]\tLoss: 0.423421\n",
            "Train Epoch: 2 [45568/60000 (75%)]\tLoss: 0.403743\n",
            "\n",
            "Test set: Average loss: 0.3873, Accuracy: 8577/10000 (86%)\n",
            "\n",
            "==================================================\n",
            "Train Epoch: 3 [14848/60000 (25%)]\tLoss: 0.384199\n",
            "Train Epoch: 3 [30208/60000 (50%)]\tLoss: 0.330158\n",
            "Train Epoch: 3 [45568/60000 (75%)]\tLoss: 0.344702\n",
            "\n",
            "Test set: Average loss: 0.3515, Accuracy: 8671/10000 (87%)\n",
            "\n",
            "==================================================\n"
          ]
        }
      ]
    },
    {
      "cell_type": "code",
      "source": [],
      "metadata": {
        "id": "Mn5Ggcb93baY"
      },
      "execution_count": null,
      "outputs": []
    }
  ]
}